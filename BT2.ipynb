{
 "cells": [
  {
   "cell_type": "markdown",
   "id": "3e5108db",
   "metadata": {},
   "source": [
    "BT1"
   ]
  },
  {
   "cell_type": "code",
   "execution_count": null,
   "id": "a02e3ec8",
   "metadata": {},
   "outputs": [],
   "source": [
    "n = int(input(''))\n",
    "print(2 * n)"
   ]
  },
  {
   "cell_type": "markdown",
   "id": "bb5facf1",
   "metadata": {},
   "source": [
    "BT2"
   ]
  },
  {
   "cell_type": "code",
   "execution_count": null,
   "id": "85575022",
   "metadata": {},
   "outputs": [],
   "source": [
    "a = int(input(''))\n",
    "b = int(input(''))\n",
    "Ans = a * b - 3.14 * (a * a / 4)\n",
    "print(round(Ans , 2))"
   ]
  },
  {
   "cell_type": "markdown",
   "id": "fd1b1470",
   "metadata": {},
   "source": [
    "BT3"
   ]
  },
  {
   "cell_type": "code",
   "execution_count": null,
   "id": "55e113ad",
   "metadata": {},
   "outputs": [],
   "source": [
    "c = input('')\n",
    "if 65 <= ord(c) <= 90:\n",
    "    print(c.lower())\n",
    "else:\n",
    "    print(c.upper())"
   ]
  },
  {
   "cell_type": "markdown",
   "id": "4ce0a0f9",
   "metadata": {},
   "source": [
    "BT4"
   ]
  },
  {
   "cell_type": "code",
   "execution_count": null,
   "id": "4412d380",
   "metadata": {},
   "outputs": [],
   "source": [
    "c = input()\n",
    "if 65 <= ord(c) <= 90 or 97 <= ord(c) <= 122:\n",
    "    print(\"c la ki tu alphabet\")\n",
    "else:\n",
    "    print(\"c khong phai la ki tu alphabet\")"
   ]
  },
  {
   "cell_type": "markdown",
   "id": "a811fc58",
   "metadata": {},
   "source": [
    "BT5"
   ]
  },
  {
   "cell_type": "code",
   "execution_count": null,
   "id": "f6cd2374",
   "metadata": {},
   "outputs": [],
   "source": [
    "n = input('')\n",
    "if n == 'A':\n",
    "    print(\"None\")\n",
    "else:\n",
    "    print(chr(ord(n.lower()) - 1))"
   ]
  },
  {
   "cell_type": "markdown",
   "id": "3aeb05f7",
   "metadata": {},
   "source": [
    "BT6"
   ]
  },
  {
   "cell_type": "code",
   "execution_count": null,
   "id": "10de9576",
   "metadata": {},
   "outputs": [],
   "source": [
    "import math\n",
    "a , b , c = map(int,input('').split())\n",
    "if a + b > c and a + c > b and b + c > a :\n",
    "    p = (a + b + c) / 2\n",
    "    S = math.sqrt(p * (p - a) * (p - b) * (p -c))\n",
    "    print(round(S , 1))\n",
    "else:\n",
    "    print(\"Khong phai 3 canh cua tam giac\")\n"
   ]
  },
  {
   "cell_type": "markdown",
   "id": "0e3e1ffc",
   "metadata": {},
   "source": [
    "BT7"
   ]
  },
  {
   "cell_type": "code",
   "execution_count": null,
   "id": "4f805e23",
   "metadata": {},
   "outputs": [],
   "source": [
    "a = input('')\n",
    "print(a[4] , a[8])"
   ]
  },
  {
   "cell_type": "markdown",
   "id": "65cc5edb",
   "metadata": {},
   "source": [
    "BT8"
   ]
  },
  {
   "cell_type": "code",
   "execution_count": 11,
   "id": "30903c59",
   "metadata": {},
   "outputs": [
    {
     "name": "stdout",
     "output_type": "stream",
     "text": [
      "Ho va ten:  huy\n",
      "Tien phai tra la:  1855505\n"
     ]
    }
   ],
   "source": [
    "import math\n",
    "from math import ceil\n",
    "TName = input(\"Ten chu ho: \")\n",
    "LastMon = int(input(\"Chi so thang truoc: \"))\n",
    "CurMon = int(input(\"Chi so thang nay: \"))\n",
    "CurMon = CurMon - LastMon\n",
    "total = 0\n",
    "St1 = 50 * 1984\n",
    "St2 = 50 * 2050\n",
    "St3 = 100 * 2380\n",
    "St4 = 100 * 2998\n",
    "St5 = 100 * 3350\n",
    "if CurMon <= 50:\n",
    "    total = CurMon * 1984\n",
    "elif CurMon <= 100:\n",
    "    total = St1 + (CurMon - 50) * 2050\n",
    "elif CurMon <= 200:\n",
    "    total = St1 + St2 + (CurMon - 100) * 2380  \n",
    "elif CurMon <= 300: \n",
    "    total = St1 + St2 + St3 + (CurMon - 200) * 2998\n",
    "elif CurMon <= 400:\n",
    "    total = St1 + St2 + St3 + St4 + (CurMon - 300) * 3350\n",
    "elif CurMon > 400:\n",
    "    total = St1 + St2 + St3 + St4 + St5 + (CurMon-400)*3460\n",
    "print(\"Ho va ten: \" , TName)    \n",
    "print(\"Tien phai tra la: \" , ceil(total * 1.08))"
   ]
  }
 ],
 "metadata": {
  "kernelspec": {
   "display_name": "Python 3",
   "language": "python",
   "name": "python3"
  },
  "language_info": {
   "codemirror_mode": {
    "name": "ipython",
    "version": 3
   },
   "file_extension": ".py",
   "mimetype": "text/x-python",
   "name": "python",
   "nbconvert_exporter": "python",
   "pygments_lexer": "ipython3",
   "version": "3.13.7"
  }
 },
 "nbformat": 4,
 "nbformat_minor": 5
}
